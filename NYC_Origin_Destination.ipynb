{
 "cells": [
  {
   "cell_type": "markdown",
   "metadata": {},
   "source": [
    "## Origin-Destination Analysis"
   ]
  },
  {
   "cell_type": "code",
   "execution_count": 26,
   "metadata": {},
   "outputs": [],
   "source": [
    "import pandas as pd\n",
    "def fahrenheit_to_celsius(f):\n",
    "        return (f - 32) * 5/9"
   ]
  },
  {
   "cell_type": "code",
   "execution_count": 12,
   "metadata": {},
   "outputs": [
    {
     "data": {
      "text/plain": [
       "'c:\\\\Users\\\\max-admin\\\\Desktop\\\\Masterstudium\\\\Masterarbeit\\\\Master_Thesis\\\\Data'"
      ]
     },
     "execution_count": 12,
     "metadata": {},
     "output_type": "execute_result"
    }
   ],
   "source": [
    "pwd()"
   ]
  },
  {
   "cell_type": "markdown",
   "metadata": {},
   "source": [
    "#### Cutoff: 25 degrees - Hot days "
   ]
  },
  {
   "cell_type": "markdown",
   "metadata": {},
   "source": [
    "#### Pool Origin Destination Data - Only by trip count"
   ]
  },
  {
   "cell_type": "code",
   "execution_count": 43,
   "metadata": {},
   "outputs": [],
   "source": [
    "pooled_trips_OD = pd.read_csv('Pooled_data/pooled_trips_OD.csv')"
   ]
  },
  {
   "cell_type": "code",
   "execution_count": 22,
   "metadata": {},
   "outputs": [],
   "source": [
    "## read in climate data and merge by date\n",
    "\n",
    "climate_NYC = pd.read_csv(\"NYC_weather\\climate_data_NYC_2014_2019.csv\")"
   ]
  },
  {
   "cell_type": "markdown",
   "metadata": {},
   "source": [
    "## Origin"
   ]
  },
  {
   "cell_type": "code",
   "execution_count": 44,
   "metadata": {},
   "outputs": [],
   "source": [
    "Pooled_trips_Origin_Park = pooled_trips_OD[pooled_trips_OD['PULocationID'] == 93]\n",
    "\n",
    "\n",
    "# calculate the average daily trips from each zone to the park\n",
    "\n",
    "average_daily_trips_origin = Pooled_trips_Origin_Park.groupby('DOLocationID')['trip_count'].mean().reset_index()\n",
    "\n",
    "# Renaming the column for clarity\n",
    "average_daily_trips_origin.rename(columns={'trip_count': 'average_daily_trips'}, inplace=True)\n",
    "\n",
    "\n",
    "# merge trips and climate data on date\n",
    "Pooled_origin_Park = pd.merge(Pooled_trips_Origin_Park, climate_NYC, how='left', left_on='date_pickup', right_on='DATE')\n",
    "# Apply the conversion function to the Fahrenheit column\n",
    "Pooled_origin_Park['TMAX'] = Pooled_origin_Park['TMAX'].apply(fahrenheit_to_celsius)\n",
    "# get average daily trips to park when the temperature is above 25 degrees\n",
    "Pooled_origin_Park_above25 = Pooled_origin_Park[Pooled_origin_Park['TMAX'] > 25]\n",
    "\n",
    "average_daily_trips_origin_above25 = Pooled_origin_Park_above25.groupby('DOLocationID')['trip_count'].mean().reset_index()\n",
    "\n",
    "average_daily_trips_origin_above25.rename(columns={'trip_count': 'average_daily_trips_25'}, inplace=True)\n",
    "\n",
    "# merge the 2 dataframes on location ID and calculate the percentage change\n",
    "avg_origin = pd.merge(average_daily_trips_origin, average_daily_trips_origin_above25, how='left', on='DOLocationID')\n",
    "avg_origin[\"deviation\"] = (avg_origin[\"average_daily_trips_25\"] - avg_origin[\"average_daily_trips\"]) / avg_origin[\"average_daily_trips_25\"]"
   ]
  },
  {
   "cell_type": "markdown",
   "metadata": {},
   "source": [
    "### Destination"
   ]
  },
  {
   "cell_type": "code",
   "execution_count": 52,
   "metadata": {},
   "outputs": [
    {
     "name": "stderr",
     "output_type": "stream",
     "text": [
      "C:\\Users\\max-admin\\AppData\\Local\\Temp\\ipykernel_18244\\3808391053.py:16: UserWarning: Boolean Series key will be reindexed to match DataFrame index.\n",
      "  Pooled_destination_Park_above25 = Pooled_destination_Park[Pooled_origin_Park['TMAX'] > 25]\n"
     ]
    }
   ],
   "source": [
    "Pooled_trips_Destination_Park = pooled_trips_OD[pooled_trips_OD['DOLocationID'] == 93]\n",
    "\n",
    "# calculate the average daily trips from each zone to the park\n",
    "\n",
    "average_daily_trips_destination = Pooled_trips_Destination_Park.groupby('PULocationID')['trip_count'].mean().reset_index()\n",
    "\n",
    "# Renaming the column for clarity\n",
    "average_daily_trips_destination.rename(columns={'trip_count': 'average_daily_trips'}, inplace=True)\n",
    "\n",
    "\n",
    "# merge trips and climate data on date\n",
    "Pooled_destination_Park = pd.merge(Pooled_trips_Destination_Park, climate_NYC, how='left', left_on='date_pickup', right_on='DATE')\n",
    "# Apply the conversion function to the Fahrenheit column\n",
    "Pooled_destination_Park['TMAX'] = Pooled_destination_Park['TMAX'].apply(fahrenheit_to_celsius)\n",
    "# get average daily trips to park when the temperature is above 25 degrees\n",
    "Pooled_destination_Park_above25 = Pooled_destination_Park[Pooled_origin_Park['TMAX'] > 25]\n",
    "\n",
    "average_daily_trips_destination_above25 = Pooled_destination_Park_above25.groupby('PULocationID')['trip_count'].mean().reset_index()\n",
    "\n",
    "average_daily_trips_destination_above25.rename(columns={'trip_count': 'average_daily_trips_25'}, inplace=True)\n",
    "\n",
    "# merge the 2 dataframes on location ID and calculate the percentage change\n",
    "avg_destination = pd.merge(average_daily_trips_destination, average_daily_trips_destination_above25, how='left', on='PULocationID')\n",
    "avg_destination[\"deviation\"] = (avg_destination[\"average_daily_trips_25\"] - avg_destination[\"average_daily_trips\"]) / avg_destination[\"average_daily_trips_25\"]"
   ]
  },
  {
   "cell_type": "code",
   "execution_count": 60,
   "metadata": {},
   "outputs": [
    {
     "data": {
      "text/plain": [
       "count    255.000000\n",
       "mean       2.417370\n",
       "std        1.620091\n",
       "min        1.000000\n",
       "25%        1.393939\n",
       "50%        1.882353\n",
       "75%        2.826524\n",
       "max       11.229025\n",
       "Name: average_daily_trips_25, dtype: float64"
      ]
     },
     "execution_count": 60,
     "metadata": {},
     "output_type": "execute_result"
    }
   ],
   "source": [
    "avg_destination[\"average_daily_trips_25\"].describe()"
   ]
  },
  {
   "cell_type": "code",
   "execution_count": 62,
   "metadata": {},
   "outputs": [],
   "source": [
    "avg_destination.to_csv('Pooled_data/avg_destination_coronapark.csv')"
   ]
  }
 ],
 "metadata": {
  "kernelspec": {
   "display_name": "dl_intro",
   "language": "python",
   "name": "python3"
  },
  "language_info": {
   "codemirror_mode": {
    "name": "ipython",
    "version": 3
   },
   "file_extension": ".py",
   "mimetype": "text/x-python",
   "name": "python",
   "nbconvert_exporter": "python",
   "pygments_lexer": "ipython3",
   "version": "3.11.4"
  }
 },
 "nbformat": 4,
 "nbformat_minor": 2
}
